{
 "cells": [
  {
   "cell_type": "code",
   "execution_count": 1,
   "id": "02b38ed1-7e81-4c6e-820d-7ca1ee969f89",
   "metadata": {},
   "outputs": [],
   "source": [
    "# Day 9"
   ]
  },
  {
   "cell_type": "code",
   "execution_count": 3,
   "id": "ed4eb605-6f8d-43f3-a7d6-17a662a40973",
   "metadata": {},
   "outputs": [
    {
     "name": "stdout",
     "output_type": "stream",
     "text": [
      "(10, 20, 30, 40)\n",
      "100\n"
     ]
    }
   ],
   "source": [
    "# *args (first)\n",
    "def add_numbers(*args):\n",
    "    print(args)  # args is a tuple\n",
    "    return sum(args)\n",
    "\n",
    "result = add_numbers(10, 20, 30, 40)\n",
    "print(result)"
   ]
  },
  {
   "cell_type": "code",
   "execution_count": 5,
   "id": "79639981-2ed9-4fac-99f1-84b7cb7fe58d",
   "metadata": {},
   "outputs": [
    {
     "name": "stdout",
     "output_type": "stream",
     "text": [
      "{'name': 'Alice', 'age': 25, 'city': 'New York'}\n",
      "name: Alice\n",
      "age: 25\n",
      "city: New York\n"
     ]
    }
   ],
   "source": [
    "# **kwargs (second)\n",
    "def print_details(**kwargs):\n",
    "    print(kwargs)  # kwargs is a dictionary\n",
    "    for key, value in kwargs.items():\n",
    "        print(f\"{key}: {value}\")\n",
    "\n",
    "print_details(name=\"Alice\", age=25, city=\"New York\")"
   ]
  },
  {
   "cell_type": "code",
   "execution_count": 7,
   "id": "2d22002a-559e-41d1-b87c-2437fe83cc5f",
   "metadata": {},
   "outputs": [
    {
     "name": "stdout",
     "output_type": "stream",
     "text": [
      "Positional arguments: (1, 2, 3)\n",
      "Keyword arguments: {'name': 'Alice', 'age': 25}\n"
     ]
    }
   ],
   "source": [
    "# Using *args and **kwargs Together (third)\n",
    "def func(*args, **kwargs):\n",
    "    print(\"Positional arguments:\", args)\n",
    "    print(\"Keyword arguments:\", kwargs)\n",
    "\n",
    "func(1, 2, 3, name=\"Alice\", age=25)"
   ]
  },
  {
   "cell_type": "code",
   "execution_count": 9,
   "id": "7225ff90-6962-4e8a-b48e-808a88113d9f",
   "metadata": {},
   "outputs": [
    {
     "name": "stdout",
     "output_type": "stream",
     "text": [
      "10 20\n",
      "(30, 40)\n",
      "{'name': 'Alice', 'city': 'NY'}\n"
     ]
    }
   ],
   "source": [
    "# Order of Arguments (fourth)\n",
    "def example(a, b, *args, **kwargs):\n",
    "    print(a, b)\n",
    "    print(args)\n",
    "    print(kwargs)\n",
    "\n",
    "example(10, 20, 30, 40, name=\"Alice\", city=\"NY\")"
   ]
  },
  {
   "cell_type": "code",
   "execution_count": null,
   "id": "4a32a68d-2499-4f9b-8bd7-9a5d75118239",
   "metadata": {},
   "outputs": [],
   "source": []
  }
 ],
 "metadata": {
  "kernelspec": {
   "display_name": "Python 3 (ipykernel)",
   "language": "python",
   "name": "python3"
  },
  "language_info": {
   "codemirror_mode": {
    "name": "ipython",
    "version": 3
   },
   "file_extension": ".py",
   "mimetype": "text/x-python",
   "name": "python",
   "nbconvert_exporter": "python",
   "pygments_lexer": "ipython3",
   "version": "3.12.7"
  }
 },
 "nbformat": 4,
 "nbformat_minor": 5
}
