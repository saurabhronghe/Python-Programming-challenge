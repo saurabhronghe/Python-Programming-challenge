{
 "cells": [
  {
   "cell_type": "code",
   "execution_count": 1,
   "id": "e54f6675-3625-4313-a511-30aa3e384012",
   "metadata": {},
   "outputs": [],
   "source": [
    "# Day 7"
   ]
  },
  {
   "cell_type": "code",
   "execution_count": 13,
   "id": "d73d89ab-bffb-4074-ad8b-43ab9e8a0568",
   "metadata": {},
   "outputs": [
    {
     "name": "stdout",
     "output_type": "stream",
     "text": [
      "2\n"
     ]
    }
   ],
   "source": [
    "# Program 1 (TUPLE)\n",
    "tup = (1, 2, 3, 2)\n",
    "print(tup[1])  # Output: 2\n",
    "# tup[1] = 10  # ❌ TypeError: 'tuple' object does not support item assignment"
   ]
  },
  {
   "cell_type": "code",
   "execution_count": 15,
   "id": "dd8ff6ee-9030-4b5d-b98e-712222abf954",
   "metadata": {},
   "outputs": [
    {
     "name": "stdout",
     "output_type": "stream",
     "text": [
      "[1, 10, 3, 2, 4]\n"
     ]
    }
   ],
   "source": [
    "# Program 2 (LIST)\n",
    "lst = [1, 2, 3, 2]\n",
    "lst.append(4)  # Adds 4 at the end\n",
    "lst[1] = 10  # Modifies the second element\n",
    "print(lst)  # Output: [1, 10, 3, 2, 4]"
   ]
  },
  {
   "cell_type": "code",
   "execution_count": 17,
   "id": "7e396015-0ba3-4fb7-8838-451b7b9b85e5",
   "metadata": {},
   "outputs": [
    {
     "name": "stdout",
     "output_type": "stream",
     "text": [
      "{1, 2, 3, 4}\n",
      "{1, 3, 4, 5}\n"
     ]
    }
   ],
   "source": [
    "# Program 3 (SET)\n",
    "st = {1, 2, 3, 3, 4}\n",
    "print(st)  # Output: {1, 2, 3, 4} (Duplicates removed)\n",
    "\n",
    "st.add(5)  # Adds 5\n",
    "st.remove(2)  # Removes 2\n",
    "print(st)  # Output: {1, 3, 4, 5}"
   ]
  },
  {
   "cell_type": "code",
   "execution_count": 19,
   "id": "517f746d-b055-45fd-b1d7-b3d52c843281",
   "metadata": {},
   "outputs": [
    {
     "name": "stdout",
     "output_type": "stream",
     "text": [
      "2\n",
      "{'b': 20, 'c': 3, 'd': 4}\n"
     ]
    }
   ],
   "source": [
    "# Program 4 (Dictionary)\n",
    "dct = {\"a\": 1, \"b\": 2, \"c\": 3}\n",
    "print(dct[\"b\"])  # Output: 2\n",
    "\n",
    "dct[\"b\"] = 20  # Update value\n",
    "dct[\"d\"] = 4  # Add new key-value pair\n",
    "del dct[\"a\"]  # Remove key \"a\"\n",
    "print(dct)  # Output: {'b': 20, 'c': 3, 'd': 4}"
   ]
  }
 ],
 "metadata": {
  "kernelspec": {
   "display_name": "Python 3 (ipykernel)",
   "language": "python",
   "name": "python3"
  },
  "language_info": {
   "codemirror_mode": {
    "name": "ipython",
    "version": 3
   },
   "file_extension": ".py",
   "mimetype": "text/x-python",
   "name": "python",
   "nbconvert_exporter": "python",
   "pygments_lexer": "ipython3",
   "version": "3.12.7"
  }
 },
 "nbformat": 4,
 "nbformat_minor": 5
}
