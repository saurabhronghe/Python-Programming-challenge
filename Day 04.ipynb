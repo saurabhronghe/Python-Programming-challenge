{
 "cells": [
  {
   "cell_type": "code",
   "execution_count": 1,
   "id": "8152a84a-dfca-4144-be72-4ab4c36efd3c",
   "metadata": {},
   "outputs": [],
   "source": [
    "# Day 4"
   ]
  },
  {
   "cell_type": "code",
   "execution_count": 6,
   "id": "b45f8435-f07b-4aed-b2a9-702582331cad",
   "metadata": {},
   "outputs": [
    {
     "name": "stdout",
     "output_type": "stream",
     "text": [
      "nohtyP\n"
     ]
    }
   ],
   "source": [
    "# Program 1\n",
    "s = \"Python\"\n",
    "print(\"\".join(reversed(s)))  # Output: nohtyP"
   ]
  },
  {
   "cell_type": "code",
   "execution_count": 8,
   "id": "21e1d8fa-97a7-472b-a57e-cc49af7b9870",
   "metadata": {},
   "outputs": [
    {
     "name": "stdout",
     "output_type": "stream",
     "text": [
      "nohtyP\n"
     ]
    }
   ],
   "source": [
    "# Program 2\n",
    "s = \"Python\"\n",
    "rev_str = \"\"\n",
    "for char in s:\n",
    "    rev_str = char + rev_str  # Prepend each character\n",
    "print(rev_str)  # Output: nohtyP"
   ]
  }
 ],
 "metadata": {
  "kernelspec": {
   "display_name": "Python 3 (ipykernel)",
   "language": "python",
   "name": "python3"
  },
  "language_info": {
   "codemirror_mode": {
    "name": "ipython",
    "version": 3
   },
   "file_extension": ".py",
   "mimetype": "text/x-python",
   "name": "python",
   "nbconvert_exporter": "python",
   "pygments_lexer": "ipython3",
   "version": "3.12.7"
  }
 },
 "nbformat": 4,
 "nbformat_minor": 5
}
