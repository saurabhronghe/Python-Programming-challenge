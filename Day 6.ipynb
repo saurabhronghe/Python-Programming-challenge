{
 "cells": [
  {
   "cell_type": "code",
   "execution_count": 1,
   "id": "61d9e9c2-f910-48c0-9f86-2ecb39df92ac",
   "metadata": {},
   "outputs": [],
   "source": [
    "# Day 6"
   ]
  },
  {
   "cell_type": "code",
   "execution_count": 5,
   "id": "a3132949-6b62-48e1-aed6-49509cc56cc9",
   "metadata": {},
   "outputs": [
    {
     "name": "stdout",
     "output_type": "stream",
     "text": [
      "[1, 2, 3, 4]\n"
     ]
    }
   ],
   "source": [
    "lst = [1, 2, 2, 3, 4, 4]  \n",
    "print(list(set(lst)))  # [1, 2, 3, 4]"
   ]
  },
  {
   "cell_type": "code",
   "execution_count": 9,
   "id": "ef456285-5268-4fb5-a020-8e0ed99aae70",
   "metadata": {},
   "outputs": [
    {
     "name": "stdout",
     "output_type": "stream",
     "text": [
      "[1, 2, 3, 4]\n"
     ]
    }
   ],
   "source": [
    "lst = [1, 2, 3, 2, 3, 4, 4]\n",
    "unique_lst = list(dict.fromkeys(lst))\n",
    "print(unique_lst)  # [1, 2, 3, 4]"
   ]
  }
 ],
 "metadata": {
  "kernelspec": {
   "display_name": "Python 3 (ipykernel)",
   "language": "python",
   "name": "python3"
  },
  "language_info": {
   "codemirror_mode": {
    "name": "ipython",
    "version": 3
   },
   "file_extension": ".py",
   "mimetype": "text/x-python",
   "name": "python",
   "nbconvert_exporter": "python",
   "pygments_lexer": "ipython3",
   "version": "3.12.7"
  }
 },
 "nbformat": 4,
 "nbformat_minor": 5
}
