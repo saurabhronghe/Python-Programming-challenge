{
 "cells": [
  {
   "cell_type": "code",
   "execution_count": 1,
   "id": "16e97d78-a470-4150-8ea6-627ada16e0f2",
   "metadata": {},
   "outputs": [
    {
     "name": "stdout",
     "output_type": "stream",
     "text": [
      "Original List: [[99, 2, 3], [4, 5, 6]]\n",
      "Shallow Copied List: [[99, 2, 3], [4, 5, 6]]\n"
     ]
    }
   ],
   "source": [
    "# Shallow Copy (first program)\n",
    "import copy\n",
    "# Original nested list\n",
    "original_list = [[1, 2, 3], [4, 5, 6]]\n",
    "# Creating a shallow copy\n",
    "shallow_copied_list = copy.copy(original_list)\n",
    "# Modifying a nested element in the copied list\n",
    "shallow_copied_list[0][0] = 99\n",
    "# Printing the original and copied lists\n",
    "print(\"Original List:\", original_list)\n",
    "print(\"Shallow Copied List:\", shallow_copied_list)"
   ]
  },
  {
   "cell_type": "code",
   "execution_count": 3,
   "id": "4aa14e70-ebfe-462c-bd00-fd29a9118e57",
   "metadata": {},
   "outputs": [
    {
     "name": "stdout",
     "output_type": "stream",
     "text": [
      "Original List: [[1, 2, 3], [4, 5, 6]]\n",
      "Deep Copied List: [[1, 2, 3], [4, 88, 6]]\n"
     ]
    }
   ],
   "source": [
    "# Deep Copy (second program)\n",
    "import copy\n",
    "# Original nested list\n",
    "original_list = [[1, 2, 3], [4, 5, 6]]\n",
    "# Creating a deep copy\n",
    "deep_copied_list = copy.deepcopy(original_list)\n",
    "# Modifying a nested element in the copied list\n",
    "deep_copied_list[1][1] = 88\n",
    "# Printing the original and copied lists\n",
    "print(\"Original List:\", original_list)\n",
    "print(\"Deep Copied List:\", deep_copied_list)"
   ]
  },
  {
   "cell_type": "code",
   "execution_count": null,
   "id": "55d8c6eb-a8fa-4936-b21d-6d636fe8861e",
   "metadata": {},
   "outputs": [],
   "source": []
  }
 ],
 "metadata": {
  "kernelspec": {
   "display_name": "Python 3 (ipykernel)",
   "language": "python",
   "name": "python3"
  },
  "language_info": {
   "codemirror_mode": {
    "name": "ipython",
    "version": 3
   },
   "file_extension": ".py",
   "mimetype": "text/x-python",
   "name": "python",
   "nbconvert_exporter": "python",
   "pygments_lexer": "ipython3",
   "version": "3.12.7"
  }
 },
 "nbformat": 4,
 "nbformat_minor": 5
}
