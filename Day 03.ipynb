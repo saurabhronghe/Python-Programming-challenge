{
 "cells": [
  {
   "cell_type": "code",
   "execution_count": 2,
   "id": "d762a046-e0d1-4d7e-83c6-df07b75e5280",
   "metadata": {},
   "outputs": [],
   "source": [
    "# Day 3"
   ]
  },
  {
   "cell_type": "code",
   "execution_count": 9,
   "id": "4fba64dc-1177-4b17-bc93-74421581b014",
   "metadata": {},
   "outputs": [
    {
     "name": "stdout",
     "output_type": "stream",
     "text": [
      "[1]\n",
      "[1, 2]\n"
     ]
    }
   ],
   "source": [
    "# Program 1\n",
    "def func(val, lst=[]):  # Mutable default argument\n",
    "    lst.append(val)\n",
    "    return lst\n",
    "\n",
    "print(func(1))  # [1]\n",
    "print(func(2))  # [1, 2] (Unexpected behavior)"
   ]
  },
  {
   "cell_type": "code",
   "execution_count": 11,
   "id": "65404db3-8a15-48c1-b2e8-5a689d7661a8",
   "metadata": {},
   "outputs": [
    {
     "name": "stdout",
     "output_type": "stream",
     "text": [
      "[1]\n",
      "[2]\n"
     ]
    }
   ],
   "source": [
    "# Program 2\n",
    "def func(val, lst=None):\n",
    "    if lst is None:\n",
    "        lst = []  # Creates a new list each time\n",
    "    lst.append(val)\n",
    "    return lst\n",
    "\n",
    "print(func(1))  # [1]\n",
    "print(func(2))  # [2] (New list each time)"
   ]
  }
 ],
 "metadata": {
  "kernelspec": {
   "display_name": "Python 3 (ipykernel)",
   "language": "python",
   "name": "python3"
  },
  "language_info": {
   "codemirror_mode": {
    "name": "ipython",
    "version": 3
   },
   "file_extension": ".py",
   "mimetype": "text/x-python",
   "name": "python",
   "nbconvert_exporter": "python",
   "pygments_lexer": "ipython3",
   "version": "3.12.7"
  }
 },
 "nbformat": 4,
 "nbformat_minor": 5
}
