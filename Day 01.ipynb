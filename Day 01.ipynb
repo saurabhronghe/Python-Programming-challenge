{
 "cells": [
  {
   "cell_type": "code",
   "execution_count": 1,
   "id": "e3ab4294-d63e-4b10-ab87-c50afd328281",
   "metadata": {},
   "outputs": [],
   "source": [
    "# Day 1"
   ]
  },
  {
   "cell_type": "code",
   "execution_count": 3,
   "id": "6af0a8b9-7621-42f4-ad4e-3d24fc881cf6",
   "metadata": {},
   "outputs": [
    {
     "name": "stdout",
     "output_type": "stream",
     "text": [
      "True\n",
      "False\n",
      "True\n"
     ]
    }
   ],
   "source": [
    "# Program\n",
    "a = [1, 2, 3]  # List assigned to 'a'\n",
    "b = [1, 2, 3]  # Another list with the same values assigned to 'b'\n",
    "\n",
    "print(a == b)  # True → Values are the same\n",
    "print(a is b)  # False → They are different objects in memory\n",
    "\n",
    "c = a  # 'c' now points to the same object as 'a'\n",
    "\n",
    "print(a is c)  # True → Both refer to the same object in memory\n"
   ]
  }
 ],
 "metadata": {
  "kernelspec": {
   "display_name": "Python 3 (ipykernel)",
   "language": "python",
   "name": "python3"
  },
  "language_info": {
   "codemirror_mode": {
    "name": "ipython",
    "version": 3
   },
   "file_extension": ".py",
   "mimetype": "text/x-python",
   "name": "python",
   "nbconvert_exporter": "python",
   "pygments_lexer": "ipython3",
   "version": "3.12.7"
  }
 },
 "nbformat": 4,
 "nbformat_minor": 5
}
