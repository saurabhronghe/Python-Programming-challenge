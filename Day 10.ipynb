{
 "cells": [
  {
   "cell_type": "code",
   "execution_count": 1,
   "id": "7d63e6b3-b8d9-47c9-a896-96da673949f2",
   "metadata": {},
   "outputs": [],
   "source": [
    "# Day 10"
   ]
  },
  {
   "cell_type": "code",
   "execution_count": 3,
   "id": "34f302c9-eb4c-43ee-b646-66b763dba128",
   "metadata": {},
   "outputs": [
    {
     "name": "stdout",
     "output_type": "stream",
     "text": [
      "0 a\n",
      "1 b\n",
      "2 c\n"
     ]
    }
   ],
   "source": [
    "# Using enumerate() on a list (first)\n",
    "lst = [\"a\", \"b\", \"c\"]\n",
    "for i, val in enumerate(lst):\n",
    "    print(i, val)"
   ]
  },
  {
   "cell_type": "code",
   "execution_count": 5,
   "id": "82dca41e-8878-4e77-8cd6-5166f63638ef",
   "metadata": {},
   "outputs": [
    {
     "name": "stdout",
     "output_type": "stream",
     "text": [
      "1 x\n",
      "2 y\n",
      "3 z\n"
     ]
    }
   ],
   "source": [
    "# Custom Start Index (Second)\n",
    "lst = [\"x\", \"y\", \"z\"]\n",
    "for i, val in enumerate(lst, start=1):  # Start index from 1\n",
    "    print(i, val)"
   ]
  },
  {
   "cell_type": "code",
   "execution_count": 7,
   "id": "4e2e8855-37eb-4f5e-bafb-f9655c5d5083",
   "metadata": {},
   "outputs": [
    {
     "name": "stdout",
     "output_type": "stream",
     "text": [
      "0 apple\n",
      "1 banana\n",
      "2 cherry\n"
     ]
    }
   ],
   "source": [
    "#  Using enumerate() with Tuples (Third)\n",
    "tup = (\"apple\", \"banana\", \"cherry\")\n",
    "for i, val in enumerate(tup):\n",
    "    print(i, val)"
   ]
  },
  {
   "cell_type": "code",
   "execution_count": 9,
   "id": "5206998e-9ce8-4746-bcfc-c5973644bc16",
   "metadata": {},
   "outputs": [
    {
     "name": "stdout",
     "output_type": "stream",
     "text": [
      "0 h\n",
      "1 e\n",
      "2 l\n",
      "3 l\n",
      "4 o\n"
     ]
    }
   ],
   "source": [
    "# Using enumerate() with Strings (fourth)\n",
    "string = \"hello\"\n",
    "for i, char in enumerate(string):\n",
    "    print(i, char)"
   ]
  },
  {
   "cell_type": "code",
   "execution_count": 13,
   "id": "6e0d4c85-aeea-4cac-8a78-21c37b5a3df7",
   "metadata": {},
   "outputs": [
    {
     "name": "stdout",
     "output_type": "stream",
     "text": [
      "0 name Alice\n",
      "1 age 25\n",
      "2 city New York\n"
     ]
    }
   ],
   "source": [
    "# Using enumerate() with a Dictionary (fifth)\n",
    "dict_data = {\"name\": \"Alice\", \"age\": 25, \"city\": \"New York\"}\n",
    "for i, (key, value) in enumerate(dict_data.items()):\n",
    "    print(i, key, value)"
   ]
  },
  {
   "cell_type": "code",
   "execution_count": 15,
   "id": "facdd2e6-56a4-4b16-a2ca-917aefa0344f",
   "metadata": {},
   "outputs": [
    {
     "name": "stdout",
     "output_type": "stream",
     "text": [
      "[(0, 'one'), (1, 'two'), (2, 'three')]\n"
     ]
    }
   ],
   "source": [
    "# Converting enumerate() to a List (Sixth)\n",
    "lst = [\"one\", \"two\", \"three\"]\n",
    "enum_list = list(enumerate(lst))\n",
    "print(enum_list)"
   ]
  },
  {
   "cell_type": "code",
   "execution_count": null,
   "id": "1b8d40a4-33c5-40d3-90bb-5dcc6b2263bb",
   "metadata": {},
   "outputs": [],
   "source": []
  }
 ],
 "metadata": {
  "kernelspec": {
   "display_name": "Python 3 (ipykernel)",
   "language": "python",
   "name": "python3"
  },
  "language_info": {
   "codemirror_mode": {
    "name": "ipython",
    "version": 3
   },
   "file_extension": ".py",
   "mimetype": "text/x-python",
   "name": "python",
   "nbconvert_exporter": "python",
   "pygments_lexer": "ipython3",
   "version": "3.12.7"
  }
 },
 "nbformat": 4,
 "nbformat_minor": 5
}
