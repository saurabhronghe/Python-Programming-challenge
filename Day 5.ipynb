{
 "cells": [
  {
   "cell_type": "code",
   "execution_count": 1,
   "id": "c6ece58f-3a40-4db6-a5e7-eee0335e4aed",
   "metadata": {},
   "outputs": [],
   "source": [
    "# Day  5"
   ]
  },
  {
   "cell_type": "code",
   "execution_count": 7,
   "id": "79c6614f-1c14-4b75-be82-ebd73b1ce239",
   "metadata": {},
   "outputs": [
    {
     "name": "stdout",
     "output_type": "stream",
     "text": [
      "[1, 2, [3, 4]]\n"
     ]
    }
   ],
   "source": [
    "lst = [1, 2]\n",
    "\n",
    "lst.append([3, 4])  # Result: [1, 2, [3, 4]]  (Nested list)\n",
    "\n",
    "print (lst)"
   ]
  },
  {
   "cell_type": "code",
   "execution_count": 9,
   "id": "be9f77d7-69f9-41ad-a893-44425667f67c",
   "metadata": {},
   "outputs": [
    {
     "name": "stdout",
     "output_type": "stream",
     "text": [
      "[1, 2, [3, 4], 5, 6]\n"
     ]
    }
   ],
   "source": [
    "lst = [1, 2, [3, 4]]\n",
    "\n",
    "lst.extend([5, 6])  # Result: [1, 2, [3, 4], 5, 6]  (Elements added individually)\n",
    "\n",
    "print (lst)"
   ]
  }
 ],
 "metadata": {
  "kernelspec": {
   "display_name": "Python 3 (ipykernel)",
   "language": "python",
   "name": "python3"
  },
  "language_info": {
   "codemirror_mode": {
    "name": "ipython",
    "version": 3
   },
   "file_extension": ".py",
   "mimetype": "text/x-python",
   "name": "python",
   "nbconvert_exporter": "python",
   "pygments_lexer": "ipython3",
   "version": "3.12.7"
  }
 },
 "nbformat": 4,
 "nbformat_minor": 5
}
