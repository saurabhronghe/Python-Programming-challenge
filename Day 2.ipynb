{
 "cells": [
  {
   "cell_type": "code",
   "execution_count": 1,
   "id": "1f892b52-d15a-44c4-bcfc-c67d9c1ac634",
   "metadata": {},
   "outputs": [],
   "source": [
    "# Day 1"
   ]
  },
  {
   "cell_type": "code",
   "execution_count": 5,
   "id": "ccc7fd76-b80d-469e-8137-1b5fb6d408af",
   "metadata": {},
   "outputs": [
    {
     "name": "stdout",
     "output_type": "stream",
     "text": [
      "a=5 , b=10\n",
      "a=10 , b=5\n"
     ]
    }
   ],
   "source": [
    "# Program 1\n",
    "a, b = 5, 10  # Assign values to a and b\n",
    "print(f'a={a} , b={b}')\n",
    "a, b = b, a   # Swap the values using tuple unpacking\n",
    "print(f'a={a} , b={b}')   # Output: 10 5"
   ]
  },
  {
   "cell_type": "code",
   "execution_count": 7,
   "id": "1345fb2f-684c-42a3-931d-f4ac2cef5be6",
   "metadata": {},
   "outputs": [
    {
     "name": "stdout",
     "output_type": "stream",
     "text": [
      "a=5 , b=10\n",
      "a=10 , b=5\n"
     ]
    }
   ],
   "source": [
    "# Program 2\n",
    "a, b = 5, 10\n",
    "print(f'a={a} , b={b}')\n",
    "a = a + b  # a = 15\n",
    "b = a - b  # b = 5\n",
    "a = a - b  # a = 10\n",
    "print(f'a={a} , b={b}')  # Output: 10 5"
   ]
  }
 ],
 "metadata": {
  "kernelspec": {
   "display_name": "Python 3 (ipykernel)",
   "language": "python",
   "name": "python3"
  },
  "language_info": {
   "codemirror_mode": {
    "name": "ipython",
    "version": 3
   },
   "file_extension": ".py",
   "mimetype": "text/x-python",
   "name": "python",
   "nbconvert_exporter": "python",
   "pygments_lexer": "ipython3",
   "version": "3.12.7"
  }
 },
 "nbformat": 4,
 "nbformat_minor": 5
}
